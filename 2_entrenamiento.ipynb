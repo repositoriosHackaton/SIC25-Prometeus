{
 "cells": [
  {
   "cell_type": "code",
   "execution_count": 2,
   "id": "de98c0d6-ef90-49f9-b8f6-f0839f565346",
   "metadata": {},
   "outputs": [
    {
     "name": "stdout",
     "output_type": "stream",
     "text": [
      "Note: you may need to restart the kernel to use updated packages.Requirement already satisfied: ultralytics in e:\\anaconda3\\envs\\data_science\\lib\\site-packages (8.3.79)\n"
     ]
    },
    {
     "name": "stderr",
     "output_type": "stream",
     "text": [
      "  WARNING: Failed to remove contents in a temporary directory 'E:\\anaconda3\\envs\\data_science\\Lib\\site-packages\\~-mpy.libs'.\n",
      "  You can safely remove it manually.\n",
      "  WARNING: Failed to remove contents in a temporary directory 'E:\\anaconda3\\envs\\data_science\\Lib\\site-packages\\~-mpy'.\n",
      "  You can safely remove it manually.\n",
      "ERROR: pip's dependency resolver does not currently take into account all the packages that are installed. This behaviour is the source of the following dependency conflicts.\n",
      "tensorflow-intel 2.18.0 requires numpy<2.1.0,>=1.26.0, but you have numpy 2.1.1 which is incompatible.\n"
     ]
    },
    {
     "name": "stdout",
     "output_type": "stream",
     "text": [
      "\n",
      "Requirement already satisfied: opencv-python in e:\\anaconda3\\envs\\data_science\\lib\\site-packages (4.11.0.86)\n",
      "Collecting numpy<=2.1.1,>=1.23.0 (from ultralytics)\n",
      "  Downloading numpy-2.1.1-cp312-cp312-win_amd64.whl.metadata (59 kB)\n",
      "Requirement already satisfied: matplotlib>=3.3.0 in e:\\anaconda3\\envs\\data_science\\lib\\site-packages (from ultralytics) (3.10.0)\n",
      "Requirement already satisfied: pillow>=7.1.2 in e:\\anaconda3\\envs\\data_science\\lib\\site-packages (from ultralytics) (11.1.0)\n",
      "Requirement already satisfied: pyyaml>=5.3.1 in e:\\anaconda3\\envs\\data_science\\lib\\site-packages (from ultralytics) (6.0.2)\n",
      "Requirement already satisfied: requests>=2.23.0 in e:\\anaconda3\\envs\\data_science\\lib\\site-packages (from ultralytics) (2.32.3)\n",
      "Requirement already satisfied: scipy>=1.4.1 in e:\\anaconda3\\envs\\data_science\\lib\\site-packages (from ultralytics) (1.15.0)\n",
      "Requirement already satisfied: torch>=1.8.0 in e:\\anaconda3\\envs\\data_science\\lib\\site-packages (from ultralytics) (2.6.0)\n",
      "Requirement already satisfied: torchvision>=0.9.0 in e:\\anaconda3\\envs\\data_science\\lib\\site-packages (from ultralytics) (0.21.0)\n",
      "Requirement already satisfied: tqdm>=4.64.0 in e:\\anaconda3\\envs\\data_science\\lib\\site-packages (from ultralytics) (4.67.1)\n",
      "Requirement already satisfied: psutil in e:\\anaconda3\\envs\\data_science\\lib\\site-packages (from ultralytics) (5.9.0)\n",
      "Requirement already satisfied: py-cpuinfo in e:\\anaconda3\\envs\\data_science\\lib\\site-packages (from ultralytics) (9.0.0)\n",
      "Requirement already satisfied: pandas>=1.1.4 in e:\\anaconda3\\envs\\data_science\\lib\\site-packages (from ultralytics) (2.2.3)\n",
      "Requirement already satisfied: seaborn>=0.11.0 in e:\\anaconda3\\envs\\data_science\\lib\\site-packages (from ultralytics) (0.13.2)\n",
      "Requirement already satisfied: ultralytics-thop>=2.0.0 in e:\\anaconda3\\envs\\data_science\\lib\\site-packages (from ultralytics) (2.0.14)\n",
      "Requirement already satisfied: contourpy>=1.0.1 in e:\\anaconda3\\envs\\data_science\\lib\\site-packages (from matplotlib>=3.3.0->ultralytics) (1.3.1)\n",
      "Requirement already satisfied: cycler>=0.10 in e:\\anaconda3\\envs\\data_science\\lib\\site-packages (from matplotlib>=3.3.0->ultralytics) (0.12.1)\n",
      "Requirement already satisfied: fonttools>=4.22.0 in e:\\anaconda3\\envs\\data_science\\lib\\site-packages (from matplotlib>=3.3.0->ultralytics) (4.55.3)\n",
      "Requirement already satisfied: kiwisolver>=1.3.1 in e:\\anaconda3\\envs\\data_science\\lib\\site-packages (from matplotlib>=3.3.0->ultralytics) (1.4.8)\n",
      "Requirement already satisfied: packaging>=20.0 in e:\\anaconda3\\envs\\data_science\\lib\\site-packages (from matplotlib>=3.3.0->ultralytics) (24.2)\n",
      "Requirement already satisfied: pyparsing>=2.3.1 in e:\\anaconda3\\envs\\data_science\\lib\\site-packages (from matplotlib>=3.3.0->ultralytics) (3.2.1)\n",
      "Requirement already satisfied: python-dateutil>=2.7 in e:\\anaconda3\\envs\\data_science\\lib\\site-packages (from matplotlib>=3.3.0->ultralytics) (2.9.0.post0)\n",
      "Requirement already satisfied: pytz>=2020.1 in e:\\anaconda3\\envs\\data_science\\lib\\site-packages (from pandas>=1.1.4->ultralytics) (2024.2)\n",
      "Requirement already satisfied: tzdata>=2022.7 in e:\\anaconda3\\envs\\data_science\\lib\\site-packages (from pandas>=1.1.4->ultralytics) (2024.2)\n",
      "Requirement already satisfied: charset-normalizer<4,>=2 in e:\\anaconda3\\envs\\data_science\\lib\\site-packages (from requests>=2.23.0->ultralytics) (3.3.2)\n",
      "Requirement already satisfied: idna<4,>=2.5 in e:\\anaconda3\\envs\\data_science\\lib\\site-packages (from requests>=2.23.0->ultralytics) (3.7)\n",
      "Requirement already satisfied: urllib3<3,>=1.21.1 in e:\\anaconda3\\envs\\data_science\\lib\\site-packages (from requests>=2.23.0->ultralytics) (2.2.3)\n",
      "Requirement already satisfied: certifi>=2017.4.17 in e:\\anaconda3\\envs\\data_science\\lib\\site-packages (from requests>=2.23.0->ultralytics) (2025.1.31)\n",
      "Requirement already satisfied: filelock in e:\\anaconda3\\envs\\data_science\\lib\\site-packages (from torch>=1.8.0->ultralytics) (3.17.0)\n",
      "Requirement already satisfied: typing-extensions>=4.10.0 in e:\\anaconda3\\envs\\data_science\\lib\\site-packages (from torch>=1.8.0->ultralytics) (4.12.2)\n",
      "Requirement already satisfied: networkx in e:\\anaconda3\\envs\\data_science\\lib\\site-packages (from torch>=1.8.0->ultralytics) (3.4.2)\n",
      "Requirement already satisfied: jinja2 in e:\\anaconda3\\envs\\data_science\\lib\\site-packages (from torch>=1.8.0->ultralytics) (3.1.4)\n",
      "Requirement already satisfied: fsspec in e:\\anaconda3\\envs\\data_science\\lib\\site-packages (from torch>=1.8.0->ultralytics) (2025.2.0)\n",
      "Requirement already satisfied: setuptools in e:\\anaconda3\\envs\\data_science\\lib\\site-packages (from torch>=1.8.0->ultralytics) (75.1.0)\n",
      "Requirement already satisfied: sympy==1.13.1 in e:\\anaconda3\\envs\\data_science\\lib\\site-packages (from torch>=1.8.0->ultralytics) (1.13.1)\n",
      "Requirement already satisfied: mpmath<1.4,>=1.1.0 in e:\\anaconda3\\envs\\data_science\\lib\\site-packages (from sympy==1.13.1->torch>=1.8.0->ultralytics) (1.3.0)\n",
      "Requirement already satisfied: colorama in e:\\anaconda3\\envs\\data_science\\lib\\site-packages (from tqdm>=4.64.0->ultralytics) (0.4.6)\n",
      "Requirement already satisfied: six>=1.5 in e:\\anaconda3\\envs\\data_science\\lib\\site-packages (from python-dateutil>=2.7->matplotlib>=3.3.0->ultralytics) (1.16.0)\n",
      "Requirement already satisfied: MarkupSafe>=2.0 in e:\\anaconda3\\envs\\data_science\\lib\\site-packages (from jinja2->torch>=1.8.0->ultralytics) (2.1.3)\n",
      "Downloading numpy-2.1.1-cp312-cp312-win_amd64.whl (12.6 MB)\n",
      "   ---------------------------------------- 0.0/12.6 MB ? eta -:--:--\n",
      "   ----- ---------------------------------- 1.6/12.6 MB 10.5 MB/s eta 0:00:02\n",
      "   ------------ --------------------------- 3.9/12.6 MB 11.2 MB/s eta 0:00:01\n",
      "   ----------------- ---------------------- 5.5/12.6 MB 11.6 MB/s eta 0:00:01\n",
      "   ---------------------------- ----------- 8.9/12.6 MB 11.5 MB/s eta 0:00:01\n",
      "   ------------------------------------ --- 11.5/12.6 MB 11.6 MB/s eta 0:00:01\n",
      "   ---------------------------------------- 12.6/12.6 MB 10.8 MB/s eta 0:00:00\n",
      "Installing collected packages: numpy\n",
      "  Attempting uninstall: numpy\n",
      "    Found existing installation: numpy 2.2.3\n",
      "    Uninstalling numpy-2.2.3:\n",
      "      Successfully uninstalled numpy-2.2.3\n",
      "Successfully installed numpy-2.1.1\n"
     ]
    }
   ],
   "source": [
    "pip install ultralytics opencv-python"
   ]
  },
  {
   "cell_type": "code",
   "execution_count": 1,
   "id": "07913772-16d2-4d49-887e-3f175f812d95",
   "metadata": {},
   "outputs": [],
   "source": [
    "from ultralytics import YOLO\n",
    "from IPython.display import display, Image\n",
    "from roboflow import Roboflow\n",
    "import matplotlib.pyplot as plt"
   ]
  },
  {
   "cell_type": "markdown",
   "id": "e39b5beb-045c-4011-a3d4-c93d2d26c703",
   "metadata": {},
   "source": [
    "### Entrenamiento de modelo"
   ]
  },
  {
   "cell_type": "code",
   "execution_count": null,
   "id": "35501fbe-1f75-4331-aede-8e0fc9e52b1c",
   "metadata": {},
   "outputs": [],
   "source": [
    "from ultralytics import YOLO\n",
    "import os\n",
    "\n",
    "os.environ['DATASET_PATH'] = '/content/detectar_armas_imagenes-2/data.yaml'\n",
    "\n",
    "model = YOLO(\"yolov8m.pt\")\n",
    "\n",
    "results = model.train(\n",
    "    data=os.environ['DATASET_PATH'],\n",
    "    epochs=120,\n",
    "    imgsz=640,\n",
    "    momentum=0.8,\n",
    "    optimizer='SGD'\n",
    ")"
   ]
  },
  {
   "cell_type": "markdown",
   "id": "25380d07-f558-4416-8cd7-b552aee3a514",
   "metadata": {},
   "source": [
    "### Guarda el mejor modelo como un archivo .pt"
   ]
  },
  {
   "cell_type": "code",
   "execution_count": null,
   "id": "1fd8730b-ccba-4368-a35e-0ecf12388c96",
   "metadata": {},
   "outputs": [],
   "source": [
    "model.save(\"prototype_1.pt\")  "
   ]
  },
  {
   "cell_type": "code",
   "execution_count": null,
   "id": "44f839bb-6a60-4857-a8cb-16fb03503d78",
   "metadata": {},
   "outputs": [],
   "source": []
  },
  {
   "cell_type": "code",
   "execution_count": null,
   "id": "b5294ab8-2ca0-4e0e-80b2-cd50d1bf65ed",
   "metadata": {},
   "outputs": [],
   "source": []
  }
 ],
 "metadata": {
  "kernelspec": {
   "display_name": "Python 3 (ipykernel)",
   "language": "python",
   "name": "python3"
  },
  "language_info": {
   "codemirror_mode": {
    "name": "ipython",
    "version": 3
   },
   "file_extension": ".py",
   "mimetype": "text/x-python",
   "name": "python",
   "nbconvert_exporter": "python",
   "pygments_lexer": "ipython3",
   "version": "3.12.8"
  }
 },
 "nbformat": 4,
 "nbformat_minor": 5
}
